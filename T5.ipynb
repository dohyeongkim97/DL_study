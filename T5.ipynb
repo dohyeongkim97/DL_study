{
 "cells": [
  {
   "cell_type": "markdown",
   "id": "cd5156eb",
   "metadata": {},
   "source": [
    "## T5(Text-toText Transfer Transformer)"
   ]
  },
  {
   "cell_type": "markdown",
   "id": "ad7319db",
   "metadata": {},
   "source": [
    "기존 자연어 처리 모델은 대부분 입력 문장을 벡터나 행렬로 변환한 뒤, 이를 통해 출력 문장ㅇ르 생성하는 방식이거나, 출력값이 클래스나 입력값의 일부를 반환하는 형식으로 동작."
   ]
  },
  {
   "cell_type": "markdown",
   "id": "22bdca6c",
   "metadata": {},
   "source": [
    "T5는 출력을 모두 토큰 시퀀스로 처리하는 Text to Text structure.\n",
    "\n",
    "입력과 출력의 형태를 자유로이 다룰 수 있으며, 구조상 유연성과 확장성이 뛰어남."
   ]
  },
  {
   "cell_type": "code",
   "execution_count": 1,
   "id": "fb16088c",
   "metadata": {},
   "outputs": [],
   "source": [
    "import numpy as np\n",
    "from datasets import load_dataset"
   ]
  },
  {
   "cell_type": "code",
   "execution_count": 2,
   "id": "7be5009d",
   "metadata": {},
   "outputs": [
    {
     "name": "stderr",
     "output_type": "stream",
     "text": [
      "C:\\Users\\dohyeong\\AppData\\Local\\Programs\\Python\\Python311\\Lib\\site-packages\\numpy\\core\\fromnumeric.py:57: FutureWarning: 'DataFrame.swapaxes' is deprecated and will be removed in a future version. Please use 'DataFrame.transpose' instead.\n",
      "  return bound(*args, **kwds)\n"
     ]
    }
   ],
   "source": [
    "news = load_dataset('argilla/news-summary', split='test')\n",
    "df = news.to_pandas().sample(5000, random_state=42)[['text', 'prediction']]\n",
    "df['text'] = 'summarize: ' + df['text']\n",
    "df['prediction'] = df['prediction'].map(lambda x: x[0]['text'])\n",
    "train, valid, test = np.split(\n",
    "    df.sample(frac = 1, random_state = 42), [int(0.6*len(df)), int(0.8*len(df))]\n",
    ")"
   ]
  },
  {
   "cell_type": "code",
   "execution_count": 3,
   "id": "6e578b63",
   "metadata": {},
   "outputs": [
    {
     "data": {
      "text/html": [
       "<div>\n",
       "<style scoped>\n",
       "    .dataframe tbody tr th:only-of-type {\n",
       "        vertical-align: middle;\n",
       "    }\n",
       "\n",
       "    .dataframe tbody tr th {\n",
       "        vertical-align: top;\n",
       "    }\n",
       "\n",
       "    .dataframe thead th {\n",
       "        text-align: right;\n",
       "    }\n",
       "</style>\n",
       "<table border=\"1\" class=\"dataframe\">\n",
       "  <thead>\n",
       "    <tr style=\"text-align: right;\">\n",
       "      <th></th>\n",
       "      <th>text</th>\n",
       "      <th>prediction</th>\n",
       "    </tr>\n",
       "  </thead>\n",
       "  <tbody>\n",
       "    <tr>\n",
       "      <th>9209</th>\n",
       "      <td>summarize: DANANG, Vietnam (Reuters) - Russian...</td>\n",
       "      <td>Putin says had useful interaction with Trump a...</td>\n",
       "    </tr>\n",
       "    <tr>\n",
       "      <th>13236</th>\n",
       "      <td>summarize: NEW YORK (Reuters) - A showdown bet...</td>\n",
       "      <td>NY mayor criticizes Trump's closing public atr...</td>\n",
       "    </tr>\n",
       "    <tr>\n",
       "      <th>7828</th>\n",
       "      <td>summarize:  (This January 3 story was correcte...</td>\n",
       "      <td>Oil business seen in strong position as Trump ...</td>\n",
       "    </tr>\n",
       "    <tr>\n",
       "      <th>18839</th>\n",
       "      <td>summarize: NEW YORK (Reuters) - Washington sta...</td>\n",
       "      <td>Courts likely to probe Trump's intent in issui...</td>\n",
       "    </tr>\n",
       "    <tr>\n",
       "      <th>19844</th>\n",
       "      <td>summarize: WASHINGTON (Reuters) - Kristie Kenn...</td>\n",
       "      <td>Kristie Kenney named State Department's new co...</td>\n",
       "    </tr>\n",
       "    <tr>\n",
       "      <th>...</th>\n",
       "      <td>...</td>\n",
       "      <td>...</td>\n",
       "    </tr>\n",
       "    <tr>\n",
       "      <th>7920</th>\n",
       "      <td>summarize: MOSCOW (Reuters) - President Vladim...</td>\n",
       "      <td>Putin warns North Korea situation on verge of ...</td>\n",
       "    </tr>\n",
       "    <tr>\n",
       "      <th>751</th>\n",
       "      <td>summarize: DANANG, Vietnam (Reuters) - It is n...</td>\n",
       "      <td>New Zealand says unclear if TPP agreement can ...</td>\n",
       "    </tr>\n",
       "    <tr>\n",
       "      <th>16847</th>\n",
       "      <td>summarize: CORALVILLE, Iowa (Reuters) - U.S. R...</td>\n",
       "      <td>Republican candidate Rubio: Fed needs clear ru...</td>\n",
       "    </tr>\n",
       "    <tr>\n",
       "      <th>1037</th>\n",
       "      <td>summarize: WASHINGTON (Reuters) - It would not...</td>\n",
       "      <td>Germany's Schaeuble presses ECB to unwind loos...</td>\n",
       "    </tr>\n",
       "    <tr>\n",
       "      <th>7596</th>\n",
       "      <td>summarize: RIYADH (Reuters) - Saudi Arabia, th...</td>\n",
       "      <td>Saudi Arabia to vet use of Prophet's sayings t...</td>\n",
       "    </tr>\n",
       "  </tbody>\n",
       "</table>\n",
       "<p>3000 rows × 2 columns</p>\n",
       "</div>"
      ],
      "text/plain": [
       "                                                    text  \\\n",
       "9209   summarize: DANANG, Vietnam (Reuters) - Russian...   \n",
       "13236  summarize: NEW YORK (Reuters) - A showdown bet...   \n",
       "7828   summarize:  (This January 3 story was correcte...   \n",
       "18839  summarize: NEW YORK (Reuters) - Washington sta...   \n",
       "19844  summarize: WASHINGTON (Reuters) - Kristie Kenn...   \n",
       "...                                                  ...   \n",
       "7920   summarize: MOSCOW (Reuters) - President Vladim...   \n",
       "751    summarize: DANANG, Vietnam (Reuters) - It is n...   \n",
       "16847  summarize: CORALVILLE, Iowa (Reuters) - U.S. R...   \n",
       "1037   summarize: WASHINGTON (Reuters) - It would not...   \n",
       "7596   summarize: RIYADH (Reuters) - Saudi Arabia, th...   \n",
       "\n",
       "                                              prediction  \n",
       "9209   Putin says had useful interaction with Trump a...  \n",
       "13236  NY mayor criticizes Trump's closing public atr...  \n",
       "7828   Oil business seen in strong position as Trump ...  \n",
       "18839  Courts likely to probe Trump's intent in issui...  \n",
       "19844  Kristie Kenney named State Department's new co...  \n",
       "...                                                  ...  \n",
       "7920   Putin warns North Korea situation on verge of ...  \n",
       "751    New Zealand says unclear if TPP agreement can ...  \n",
       "16847  Republican candidate Rubio: Fed needs clear ru...  \n",
       "1037   Germany's Schaeuble presses ECB to unwind loos...  \n",
       "7596   Saudi Arabia to vet use of Prophet's sayings t...  \n",
       "\n",
       "[3000 rows x 2 columns]"
      ]
     },
     "execution_count": 3,
     "metadata": {},
     "output_type": "execute_result"
    }
   ],
   "source": [
    "train"
   ]
  },
  {
   "cell_type": "code",
   "execution_count": 5,
   "id": "1cd02f8a",
   "metadata": {},
   "outputs": [
    {
     "data": {
      "text/plain": [
       "'summarize: DANANG, Vietnam (Reuters) - Russian President Vladimir Putin said on Saturday he had a normal dialogue with U.S. leader Donald Trump at a summit in Vietnam, and described Trump as civil, well-educated, and comfortable to deal with. Putin said that a mooted bilateral sit-down meeting with Trump did not happen at the Asia-Pacific Economic Cooperation summit, citing scheduling issues on both sides and unspecified protocol issues. Putin, at a briefing for reporters at the end of the summit, said there was still a need for further U.S.-Russia contacts, both at the level of heads of state and their officials, to discuss issues including security and economic development.   '"
      ]
     },
     "execution_count": 5,
     "metadata": {},
     "output_type": "execute_result"
    }
   ],
   "source": [
    "train['text'][9209]"
   ]
  },
  {
   "cell_type": "code",
   "execution_count": 6,
   "id": "a27d3581",
   "metadata": {},
   "outputs": [
    {
     "data": {
      "text/plain": [
       "'Putin says had useful interaction with Trump at Vietnam summit'"
      ]
     },
     "execution_count": 6,
     "metadata": {},
     "output_type": "execute_result"
    }
   ],
   "source": [
    "train['prediction'][9209]"
   ]
  }
 ],
 "metadata": {
  "kernelspec": {
   "display_name": "3.11.4",
   "language": "python",
   "name": "3.11.4"
  },
  "language_info": {
   "codemirror_mode": {
    "name": "ipython",
    "version": 3
   },
   "file_extension": ".py",
   "mimetype": "text/x-python",
   "name": "python",
   "nbconvert_exporter": "python",
   "pygments_lexer": "ipython3",
   "version": "3.11.4"
  }
 },
 "nbformat": 4,
 "nbformat_minor": 5
}
