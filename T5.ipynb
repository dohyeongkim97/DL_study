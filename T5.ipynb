{
 "cells": [
  {
   "cell_type": "markdown",
   "id": "cd5156eb",
   "metadata": {},
   "source": [
    "## T5(Text-toText Transfer Transformer)"
   ]
  },
  {
   "cell_type": "markdown",
   "id": "ad7319db",
   "metadata": {},
   "source": [
    "기존 자연어 처리 모델은 대부분 입력 문장을 벡터나 행렬로 변환한 뒤, 이를 통해 출력 문장ㅇ르 생성하는 방식이거나, 출력값이 클래스나 입력값의 일부를 반환하는 형식으로 동작."
   ]
  },
  {
   "cell_type": "markdown",
   "id": "22bdca6c",
   "metadata": {},
   "source": [
    "T5는 출력을 모두 토큰 시퀀스로 처리하는 Text to Text structure.\n",
    "\n",
    "입력과 출력의 형태를 자유로이 다룰 수 있으며, 구조상 유연성과 확장성이 뛰어남."
   ]
  },
  {
   "cell_type": "markdown",
   "id": "127333e8",
   "metadata": {},
   "source": [
    "문장마다 마스크 토큰을 사용하는 Sentinel Token을 사용. <extra_id_0> 이나 <extra_id_1> 처럼, 0부터 99개의 기본값."
   ]
  },
  {
   "cell_type": "code",
   "execution_count": 1,
   "id": "fb16088c",
   "metadata": {},
   "outputs": [],
   "source": [
    "import numpy as np\n",
    "from datasets import load_dataset"
   ]
  },
  {
   "cell_type": "code",
   "execution_count": 2,
   "id": "7be5009d",
   "metadata": {},
   "outputs": [
    {
     "name": "stderr",
     "output_type": "stream",
     "text": [
      "C:\\Users\\dohyeong\\AppData\\Local\\Programs\\Python\\Python311\\Lib\\site-packages\\numpy\\core\\fromnumeric.py:57: FutureWarning: 'DataFrame.swapaxes' is deprecated and will be removed in a future version. Please use 'DataFrame.transpose' instead.\n",
      "  return bound(*args, **kwds)\n"
     ]
    }
   ],
   "source": [
    "news = load_dataset('argilla/news-summary', split='test')\n",
    "df = news.to_pandas().sample(5000, random_state=42)[['text', 'prediction']]\n",
    "df['text'] = 'summarize: ' + df['text']\n",
    "df['prediction'] = df['prediction'].map(lambda x: x[0]['text'])\n",
    "train, valid, test = np.split(\n",
    "    df.sample(frac = 1, random_state = 42), [int(0.6*len(df)), int(0.8*len(df))]\n",
    ")"
   ]
  },
  {
   "cell_type": "code",
   "execution_count": 3,
   "id": "6e578b63",
   "metadata": {},
   "outputs": [
    {
     "data": {
      "text/html": [
       "<div>\n",
       "<style scoped>\n",
       "    .dataframe tbody tr th:only-of-type {\n",
       "        vertical-align: middle;\n",
       "    }\n",
       "\n",
       "    .dataframe tbody tr th {\n",
       "        vertical-align: top;\n",
       "    }\n",
       "\n",
       "    .dataframe thead th {\n",
       "        text-align: right;\n",
       "    }\n",
       "</style>\n",
       "<table border=\"1\" class=\"dataframe\">\n",
       "  <thead>\n",
       "    <tr style=\"text-align: right;\">\n",
       "      <th></th>\n",
       "      <th>text</th>\n",
       "      <th>prediction</th>\n",
       "    </tr>\n",
       "  </thead>\n",
       "  <tbody>\n",
       "    <tr>\n",
       "      <th>9209</th>\n",
       "      <td>summarize: DANANG, Vietnam (Reuters) - Russian...</td>\n",
       "      <td>Putin says had useful interaction with Trump a...</td>\n",
       "    </tr>\n",
       "    <tr>\n",
       "      <th>13236</th>\n",
       "      <td>summarize: NEW YORK (Reuters) - A showdown bet...</td>\n",
       "      <td>NY mayor criticizes Trump's closing public atr...</td>\n",
       "    </tr>\n",
       "    <tr>\n",
       "      <th>7828</th>\n",
       "      <td>summarize:  (This January 3 story was correcte...</td>\n",
       "      <td>Oil business seen in strong position as Trump ...</td>\n",
       "    </tr>\n",
       "    <tr>\n",
       "      <th>18839</th>\n",
       "      <td>summarize: NEW YORK (Reuters) - Washington sta...</td>\n",
       "      <td>Courts likely to probe Trump's intent in issui...</td>\n",
       "    </tr>\n",
       "    <tr>\n",
       "      <th>19844</th>\n",
       "      <td>summarize: WASHINGTON (Reuters) - Kristie Kenn...</td>\n",
       "      <td>Kristie Kenney named State Department's new co...</td>\n",
       "    </tr>\n",
       "    <tr>\n",
       "      <th>...</th>\n",
       "      <td>...</td>\n",
       "      <td>...</td>\n",
       "    </tr>\n",
       "    <tr>\n",
       "      <th>7920</th>\n",
       "      <td>summarize: MOSCOW (Reuters) - President Vladim...</td>\n",
       "      <td>Putin warns North Korea situation on verge of ...</td>\n",
       "    </tr>\n",
       "    <tr>\n",
       "      <th>751</th>\n",
       "      <td>summarize: DANANG, Vietnam (Reuters) - It is n...</td>\n",
       "      <td>New Zealand says unclear if TPP agreement can ...</td>\n",
       "    </tr>\n",
       "    <tr>\n",
       "      <th>16847</th>\n",
       "      <td>summarize: CORALVILLE, Iowa (Reuters) - U.S. R...</td>\n",
       "      <td>Republican candidate Rubio: Fed needs clear ru...</td>\n",
       "    </tr>\n",
       "    <tr>\n",
       "      <th>1037</th>\n",
       "      <td>summarize: WASHINGTON (Reuters) - It would not...</td>\n",
       "      <td>Germany's Schaeuble presses ECB to unwind loos...</td>\n",
       "    </tr>\n",
       "    <tr>\n",
       "      <th>7596</th>\n",
       "      <td>summarize: RIYADH (Reuters) - Saudi Arabia, th...</td>\n",
       "      <td>Saudi Arabia to vet use of Prophet's sayings t...</td>\n",
       "    </tr>\n",
       "  </tbody>\n",
       "</table>\n",
       "<p>3000 rows × 2 columns</p>\n",
       "</div>"
      ],
      "text/plain": [
       "                                                    text  \\\n",
       "9209   summarize: DANANG, Vietnam (Reuters) - Russian...   \n",
       "13236  summarize: NEW YORK (Reuters) - A showdown bet...   \n",
       "7828   summarize:  (This January 3 story was correcte...   \n",
       "18839  summarize: NEW YORK (Reuters) - Washington sta...   \n",
       "19844  summarize: WASHINGTON (Reuters) - Kristie Kenn...   \n",
       "...                                                  ...   \n",
       "7920   summarize: MOSCOW (Reuters) - President Vladim...   \n",
       "751    summarize: DANANG, Vietnam (Reuters) - It is n...   \n",
       "16847  summarize: CORALVILLE, Iowa (Reuters) - U.S. R...   \n",
       "1037   summarize: WASHINGTON (Reuters) - It would not...   \n",
       "7596   summarize: RIYADH (Reuters) - Saudi Arabia, th...   \n",
       "\n",
       "                                              prediction  \n",
       "9209   Putin says had useful interaction with Trump a...  \n",
       "13236  NY mayor criticizes Trump's closing public atr...  \n",
       "7828   Oil business seen in strong position as Trump ...  \n",
       "18839  Courts likely to probe Trump's intent in issui...  \n",
       "19844  Kristie Kenney named State Department's new co...  \n",
       "...                                                  ...  \n",
       "7920   Putin warns North Korea situation on verge of ...  \n",
       "751    New Zealand says unclear if TPP agreement can ...  \n",
       "16847  Republican candidate Rubio: Fed needs clear ru...  \n",
       "1037   Germany's Schaeuble presses ECB to unwind loos...  \n",
       "7596   Saudi Arabia to vet use of Prophet's sayings t...  \n",
       "\n",
       "[3000 rows x 2 columns]"
      ]
     },
     "execution_count": 3,
     "metadata": {},
     "output_type": "execute_result"
    }
   ],
   "source": [
    "train"
   ]
  },
  {
   "cell_type": "code",
   "execution_count": 4,
   "id": "1cd02f8a",
   "metadata": {},
   "outputs": [
    {
     "data": {
      "text/plain": [
       "'summarize: DANANG, Vietnam (Reuters) - Russian President Vladimir Putin said on Saturday he had a normal dialogue with U.S. leader Donald Trump at a summit in Vietnam, and described Trump as civil, well-educated, and comfortable to deal with. Putin said that a mooted bilateral sit-down meeting with Trump did not happen at the Asia-Pacific Economic Cooperation summit, citing scheduling issues on both sides and unspecified protocol issues. Putin, at a briefing for reporters at the end of the summit, said there was still a need for further U.S.-Russia contacts, both at the level of heads of state and their officials, to discuss issues including security and economic development.   '"
      ]
     },
     "execution_count": 4,
     "metadata": {},
     "output_type": "execute_result"
    }
   ],
   "source": [
    "train['text'][9209]"
   ]
  },
  {
   "cell_type": "code",
   "execution_count": 5,
   "id": "a27d3581",
   "metadata": {},
   "outputs": [
    {
     "data": {
      "text/plain": [
       "'Putin says had useful interaction with Trump at Vietnam summit'"
      ]
     },
     "execution_count": 5,
     "metadata": {},
     "output_type": "execute_result"
    }
   ],
   "source": [
    "train['prediction'][9209]"
   ]
  },
  {
   "cell_type": "code",
   "execution_count": 6,
   "id": "5b71f713",
   "metadata": {},
   "outputs": [],
   "source": [
    "import sys\n",
    "sys.path.append(\"C:/Users/dohyeong/miniconda3/Lib/site-packages/\")"
   ]
  },
  {
   "cell_type": "code",
   "execution_count": 7,
   "id": "830b7825",
   "metadata": {},
   "outputs": [],
   "source": [
    "import torch\n",
    "from transformers import T5Tokenizer\n",
    "from torch.utils.data import TensorDataset, DataLoader\n",
    "from torch.utils.data import RandomSampler, SequentialSampler"
   ]
  },
  {
   "cell_type": "code",
   "execution_count": 26,
   "id": "fe59d0d2",
   "metadata": {},
   "outputs": [],
   "source": [
    "from torch import optim"
   ]
  },
  {
   "cell_type": "code",
   "execution_count": 18,
   "id": "e3e0482c",
   "metadata": {},
   "outputs": [],
   "source": [
    "def make_dataset(data, tokenizer, device):\n",
    "    source = tokenizer(\n",
    "        text = data.text.tolist(),\n",
    "        padding='max_length',\n",
    "        max_length=128,\n",
    "        pad_to_max_length=True,\n",
    "        truncation=True,\n",
    "        return_tensors='pt'\n",
    "    )\n",
    "    \n",
    "    target = tokenizer(\n",
    "        text = data.prediction.tolist(),\n",
    "        padding='max_length',\n",
    "        max_length=128,\n",
    "        pad_to_max_length= True,\n",
    "        truncation = True,\n",
    "        return_tensors = 'pt'\n",
    "    )\n",
    "    \n",
    "    source_ids = source['input_ids'].squeeze().to(device)\n",
    "    source_mask = source['attention_mask'].squeeze().to(device)\n",
    "    target_ids = target['input_ids'].squeeze().to(device)\n",
    "    target_mask = target['attention_mask'].squeeze().to(device)\n",
    "    return TensorDataset(source_ids, source_mask, target_ids, target_mask)"
   ]
  },
  {
   "cell_type": "code",
   "execution_count": 19,
   "id": "cb67099b",
   "metadata": {},
   "outputs": [],
   "source": [
    "def get_dataloader(dataset, sampler, batch_size):\n",
    "    data_sampler = sampler(dataset)\n",
    "    dataloader = DataLoader(dataset, sampler = data_sampler, batch_size = batch_size)\n",
    "    return dataloader"
   ]
  },
  {
   "cell_type": "code",
   "execution_count": 20,
   "id": "4d60973f",
   "metadata": {},
   "outputs": [],
   "source": [
    "epochs = 3\n",
    "batch_size = 8\n",
    "device = 'cuda' if torch.cuda.is_available() else 'cpu'"
   ]
  },
  {
   "cell_type": "code",
   "execution_count": 21,
   "id": "7f3b0e3a",
   "metadata": {},
   "outputs": [
    {
     "data": {
      "text/plain": [
       "'cuda'"
      ]
     },
     "execution_count": 21,
     "metadata": {},
     "output_type": "execute_result"
    }
   ],
   "source": [
    "device"
   ]
  },
  {
   "cell_type": "code",
   "execution_count": 22,
   "id": "79dd294a",
   "metadata": {},
   "outputs": [],
   "source": [
    "tokenizer = T5Tokenizer.from_pretrained(\n",
    "    pretrained_model_name_or_path= 't5-small'\n",
    ")"
   ]
  },
  {
   "cell_type": "code",
   "execution_count": 23,
   "id": "6dc9841a",
   "metadata": {},
   "outputs": [],
   "source": [
    "train_dataset = make_dataset(train, tokenizer, device)\n",
    "train_dataloader = get_dataloader(train_dataset, RandomSampler, batch_size)"
   ]
  },
  {
   "cell_type": "code",
   "execution_count": 24,
   "id": "552b1949",
   "metadata": {},
   "outputs": [],
   "source": [
    "valid_dataset = make_dataset(valid, tokenizer, device)\n",
    "valid_dataloader = get_dataloader(valid_dataset, RandomSampler, batch_size)"
   ]
  },
  {
   "cell_type": "code",
   "execution_count": 25,
   "id": "6e704a3c",
   "metadata": {},
   "outputs": [],
   "source": [
    "test_dataset = make_dataset(test, tokenizer, device)\n",
    "test_dataloader = get_dataloader(test_dataset, RandomSampler, batch_size)"
   ]
  },
  {
   "cell_type": "code",
   "execution_count": 28,
   "id": "4bcb7401",
   "metadata": {},
   "outputs": [
    {
     "name": "stdout",
     "output_type": "stream",
     "text": [
      "[tensor([[21603,    10,     3,  ..., 13191,  6230,     1],\n",
      "        [21603,    10,  6554,  ...,  7070,   166,     1],\n",
      "        [21603,    10,     3,  ...,   105, 20857,     1],\n",
      "        ...,\n",
      "        [21603,    10,   549,  ...,  7896,   134,     1],\n",
      "        [21603,    10,     3,  ...,    12,    66,     1],\n",
      "        [21603,    10,   549,  ...,   988,    13,     1]], device='cuda:0'), tensor([[1, 1, 1,  ..., 1, 1, 1],\n",
      "        [1, 1, 1,  ..., 1, 1, 1],\n",
      "        [1, 1, 1,  ..., 1, 1, 1],\n",
      "        ...,\n",
      "        [1, 1, 1,  ..., 1, 1, 1],\n",
      "        [1, 1, 1,  ..., 1, 1, 1],\n",
      "        [1, 1, 1,  ..., 1, 1, 1]], device='cuda:0'), tensor([[  749,    18, 18610,  ...,     0,     0,     0],\n",
      "        [18263,   819,    13,  ...,     0,     0,     0],\n",
      "        [ 2523, 14667,   265,  ...,     0,     0,     0],\n",
      "        ...,\n",
      "        [16388,     7,    13,  ...,     0,     0,     0],\n",
      "        [ 7676, 15093,     7,  ...,     0,     0,     0],\n",
      "        [  412,     5,   134,  ...,     0,     0,     0]], device='cuda:0'), tensor([[1, 1, 1,  ..., 0, 0, 0],\n",
      "        [1, 1, 1,  ..., 0, 0, 0],\n",
      "        [1, 1, 1,  ..., 0, 0, 0],\n",
      "        ...,\n",
      "        [1, 1, 1,  ..., 0, 0, 0],\n",
      "        [1, 1, 1,  ..., 0, 0, 0],\n",
      "        [1, 1, 1,  ..., 0, 0, 0]], device='cuda:0')]\n"
     ]
    }
   ],
   "source": [
    "print(next(iter(train_dataloader)))"
   ]
  },
  {
   "cell_type": "code",
   "execution_count": null,
   "id": "67929d0b",
   "metadata": {},
   "outputs": [],
   "source": []
  }
 ],
 "metadata": {
  "kernelspec": {
   "display_name": "3.11.4",
   "language": "python",
   "name": "3.11.4"
  },
  "language_info": {
   "codemirror_mode": {
    "name": "ipython",
    "version": 3
   },
   "file_extension": ".py",
   "mimetype": "text/x-python",
   "name": "python",
   "nbconvert_exporter": "python",
   "pygments_lexer": "ipython3",
   "version": "3.11.4"
  }
 },
 "nbformat": 4,
 "nbformat_minor": 5
}
