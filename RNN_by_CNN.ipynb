{
 "cells": [
  {
   "cell_type": "markdown",
   "id": "78025252",
   "metadata": {},
   "source": [
    "# CNN"
   ]
  },
  {
   "cell_type": "markdown",
   "id": "da019103",
   "metadata": {},
   "source": [
    "Convolution Neural Network. A sort of ANN which is mainly used for computer vision field like Image Recognition etc.\n",
    "\n",
    "Specialised for extracting local features of input data. "
   ]
  },
  {
   "cell_type": "markdown",
   "id": "176e33f5",
   "metadata": {},
   "source": [
    "Also can be used for NLP"
   ]
  },
  {
   "cell_type": "markdown",
   "id": "45662ae5",
   "metadata": {},
   "source": [
    "## Filter"
   ]
  },
  {
   "cell_type": "markdown",
   "id": "2d6de610",
   "metadata": {},
   "source": [
    "aka Kernel or Window"
   ]
  },
  {
   "cell_type": "markdown",
   "id": "ff9b9375",
   "metadata": {},
   "source": [
    "## Padding"
   ]
  },
  {
   "cell_type": "markdown",
   "id": "155168a8",
   "metadata": {},
   "source": [
    "adding fixed values to the edges of data. "
   ]
  },
  {
   "cell_type": "markdown",
   "id": "7caeb973",
   "metadata": {},
   "source": [
    "## Stride"
   ]
  },
  {
   "cell_type": "markdown",
   "id": "7ddef587",
   "metadata": {},
   "source": [
    "the size which the filter moves.\n",
    "\n",
    "if stride be bigger, the output size be smaller."
   ]
  },
  {
   "cell_type": "code",
   "execution_count": null,
   "id": "f76df85f",
   "metadata": {},
   "outputs": [],
   "source": []
  }
 ],
 "metadata": {
  "kernelspec": {
   "display_name": "Python 3 (ipykernel)",
   "language": "python",
   "name": "python3"
  },
  "language_info": {
   "codemirror_mode": {
    "name": "ipython",
    "version": 3
   },
   "file_extension": ".py",
   "mimetype": "text/x-python",
   "name": "python",
   "nbconvert_exporter": "python",
   "pygments_lexer": "ipython3",
   "version": "3.11.4"
  }
 },
 "nbformat": 4,
 "nbformat_minor": 5
}
