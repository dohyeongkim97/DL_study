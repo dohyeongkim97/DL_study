{
 "cells": [
  {
   "cell_type": "markdown",
   "id": "ca51e5cd",
   "metadata": {},
   "source": [
    "# CNN"
   ]
  },
  {
   "cell_type": "markdown",
   "id": "35ba3f5f",
   "metadata": {},
   "source": [
    "Convolution Neural Network. A sort of ANN which is mainly used for computer vision field like Image Recognition etc.\n",
    "\n",
    "Specialised for extracting local features of input data. "
   ]
  },
  {
   "cell_type": "markdown",
   "id": "26dc0157",
   "metadata": {},
   "source": [
    "Also can be used for NLP"
   ]
  },
  {
   "cell_type": "markdown",
   "id": "4848cbf6",
   "metadata": {},
   "source": [
    "## Filter"
   ]
  },
  {
   "cell_type": "markdown",
   "id": "be46a22f",
   "metadata": {},
   "source": [
    "aka Kernel or Window"
   ]
  },
  {
   "cell_type": "markdown",
   "id": "04130548",
   "metadata": {},
   "source": [
    "## Padding"
   ]
  },
  {
   "cell_type": "markdown",
   "id": "a4bd5832",
   "metadata": {},
   "source": [
    "adding fixed values to the edges of data. "
   ]
  },
  {
   "cell_type": "markdown",
   "id": "6b97f2c4",
   "metadata": {},
   "source": [
    "## Stride"
   ]
  },
  {
   "cell_type": "markdown",
   "id": "f5f36ac9",
   "metadata": {},
   "source": [
    "the size which the filter moves.\n",
    "\n",
    "if stride be bigger, "
   ]
  },
  {
   "cell_type": "code",
   "execution_count": null,
   "id": "53993e54",
   "metadata": {},
   "outputs": [],
   "source": []
  }
 ],
 "metadata": {
  "kernelspec": {
   "display_name": "Python 3 (ipykernel)",
   "language": "python",
   "name": "python3"
  },
  "language_info": {
   "codemirror_mode": {
    "name": "ipython",
    "version": 3
   },
   "file_extension": ".py",
   "mimetype": "text/x-python",
   "name": "python",
   "nbconvert_exporter": "python",
   "pygments_lexer": "ipython3",
   "version": "3.11.4"
  }
 },
 "nbformat": 4,
 "nbformat_minor": 5
}
