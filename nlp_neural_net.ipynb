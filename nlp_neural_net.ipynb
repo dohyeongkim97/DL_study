{
 "cells": [
  {
   "cell_type": "code",
   "execution_count": 1,
   "id": "4d6f2037",
   "metadata": {},
   "outputs": [],
   "source": [
    "import torch\n",
    "import Korpora\n",
    "from Korpora import Korpora\n",
    "import numpy as np\n",
    "import pandas as pd\n",
    "import gensim"
   ]
  },
  {
   "cell_type": "code",
   "execution_count": 2,
   "id": "634c8ab2",
   "metadata": {},
   "outputs": [],
   "source": [
    "from gensim.models import FastText"
   ]
  },
  {
   "cell_type": "code",
   "execution_count": 3,
   "id": "fca052ab",
   "metadata": {},
   "outputs": [
    {
     "name": "stdout",
     "output_type": "stream",
     "text": [
      "\n",
      "    Korpora 는 다른 분들이 연구 목적으로 공유해주신 말뭉치들을\n",
      "    손쉽게 다운로드, 사용할 수 있는 기능만을 제공합니다.\n",
      "\n",
      "    말뭉치들을 공유해 주신 분들에게 감사드리며, 각 말뭉치 별 설명과 라이센스를 공유 드립니다.\n",
      "    해당 말뭉치에 대해 자세히 알고 싶으신 분은 아래의 description 을 참고,\n",
      "    해당 말뭉치를 연구/상용의 목적으로 이용하실 때에는 아래의 라이센스를 참고해 주시기 바랍니다.\n",
      "\n",
      "    # Description\n",
      "    Author : KakaoBrain\n",
      "    Repository : https://github.com/kakaobrain/KorNLUDatasets\n",
      "    References :\n",
      "        - Ham, J., Choe, Y. J., Park, K., Choi, I., & Soh, H. (2020). KorNLI and KorSTS: New Benchmark\n",
      "           Datasets for Korean Natural Language Understanding. arXiv preprint arXiv:2004.03289.\n",
      "           (https://arxiv.org/abs/2004.03289)\n",
      "\n",
      "    This is the dataset repository for our paper\n",
      "    \"KorNLI and KorSTS: New Benchmark Datasets for Korean Natural Language Understanding.\"\n",
      "    (https://arxiv.org/abs/2004.03289)\n",
      "    We introduce KorNLI and KorSTS, which are NLI and STS datasets in Korean.\n",
      "\n",
      "    # License\n",
      "    Creative Commons Attribution-ShareAlike license (CC BY-SA 4.0)\n",
      "    Details in https://creativecommons.org/licenses/by-sa/4.0/\n",
      "\n"
     ]
    },
    {
     "name": "stderr",
     "output_type": "stream",
     "text": [
      "[kornli] download multinli.train.ko.tsv: 83.6MB [00:13, 6.13MB/s]                                                      \n",
      "[kornli] download snli_1.0_train.ko.tsv: 78.5MB [00:14, 5.55MB/s]                                                      \n",
      "[kornli] download xnli.dev.ko.tsv: 516kB [00:00, 2.33MB/s]                                                             \n",
      "[kornli] download xnli.test.ko.tsv: 1.04MB [00:00, 4.73MB/s]                                                           \n"
     ]
    }
   ],
   "source": [
    "corpus = Korpora.load('kornli')\n",
    "corpus_texts = corpus.get_all_texts() + corpus.get_all_pairs()\n"
   ]
  },
  {
   "cell_type": "code",
   "execution_count": 5,
   "id": "3ac674b7",
   "metadata": {},
   "outputs": [],
   "source": [
    "tokens = [sentence.split() for sentence in corpus_texts]"
   ]
  },
  {
   "cell_type": "code",
   "execution_count": 8,
   "id": "30131f93",
   "metadata": {},
   "outputs": [],
   "source": [
    "fasttext = FastText(\n",
    "    sentences = tokens,\n",
    "    vector_size = 128,\n",
    "    window = 5,\n",
    "    min_count = 5,\n",
    "    sg = 1,\n",
    "    epochs = 3,\n",
    "    min_n = 2,\n",
    "    max_n = 6\n",
    ")"
   ]
  },
  {
   "cell_type": "code",
   "execution_count": 10,
   "id": "2ac69ba8",
   "metadata": {},
   "outputs": [],
   "source": [
    "oov_token = '사랑해요'\n",
    "oov_vector = fasttext.wv[oov_token]"
   ]
  },
  {
   "cell_type": "code",
   "execution_count": 11,
   "id": "a32ba238",
   "metadata": {},
   "outputs": [
    {
     "name": "stdout",
     "output_type": "stream",
     "text": [
      "False\n",
      "[('사랑해', 0.908399224281311), ('사랑', 0.8756745457649231), ('사랑한', 0.8595518469810486), ('사랑해서', 0.8545883297920227), ('사랑해.', 0.8357794284820557)]\n"
     ]
    }
   ],
   "source": [
    "print(oov_token in fasttext.wv.index_to_key)\n",
    "print(fasttext.wv.most_similar(oov_vector, topn=5))"
   ]
  },
  {
   "cell_type": "markdown",
   "id": "65b9e508",
   "metadata": {},
   "source": [
    "# RNN"
   ]
  },
  {
   "cell_type": "markdown",
   "id": "800a753e",
   "metadata": {},
   "source": [
    "```\n",
    "rnn = torch.nn.RNN(\n",
    "    input_size,\n",
    "    hidden_size,\n",
    "    num_layers = 1,\n",
    "    nomlinearity='tanh',\n",
    "    bias=False,\n",
    "    batch_first = True,\n",
    "    dropout = 0,\n",
    "    bidirectional = False\n",
    ")\n",
    "```"
   ]
  },
  {
   "cell_type": "code",
   "execution_count": 13,
   "id": "3970037a",
   "metadata": {},
   "outputs": [],
   "source": [
    "import torch\n",
    "from torch import nn"
   ]
  },
  {
   "cell_type": "code",
   "execution_count": 21,
   "id": "71c47bf9",
   "metadata": {},
   "outputs": [],
   "source": [
    "input_size = 128\n",
    "output_size = 256\n",
    "num_layers = 3\n",
    "bidirectional = True"
   ]
  },
  {
   "cell_type": "code",
   "execution_count": 22,
   "id": "5d7e1122",
   "metadata": {},
   "outputs": [],
   "source": [
    "model = nn.RNN(\n",
    "    input_size = input_size,\n",
    "    hidden_size = output_size,\n",
    "    num_layers = num_layers,\n",
    "    nonlinearity='tanh',\n",
    "    batch_first = True,\n",
    "    bidirectional=bidirectional,\n",
    ")"
   ]
  },
  {
   "cell_type": "code",
   "execution_count": 23,
   "id": "cf81b9bd",
   "metadata": {},
   "outputs": [],
   "source": [
    "batch_size=4\n",
    "sequence_len=6"
   ]
  },
  {
   "cell_type": "code",
   "execution_count": 24,
   "id": "13b0a3f6",
   "metadata": {},
   "outputs": [],
   "source": [
    "inputs = torch.randn(batch_size, sequence_len, input_size)"
   ]
  },
  {
   "cell_type": "code",
   "execution_count": 25,
   "id": "1b54375c",
   "metadata": {},
   "outputs": [],
   "source": [
    "h0 = torch.rand(num_layers * (int(bidirectional)+1), batch_size, output_size)"
   ]
  },
  {
   "cell_type": "code",
   "execution_count": 26,
   "id": "21a1ad28",
   "metadata": {},
   "outputs": [],
   "source": [
    "outputs, hidden = model(inputs, h0)"
   ]
  },
  {
   "cell_type": "code",
   "execution_count": 27,
   "id": "e1ffbfec",
   "metadata": {},
   "outputs": [
    {
     "name": "stdout",
     "output_type": "stream",
     "text": [
      "torch.Size([4, 6, 512])\n",
      "torch.Size([6, 4, 256])\n"
     ]
    }
   ],
   "source": [
    "print(outputs.shape)\n",
    "print(hidden.shape)"
   ]
  },
  {
   "cell_type": "markdown",
   "id": "b8b0c05f",
   "metadata": {},
   "source": [
    "# LSTM"
   ]
  },
  {
   "cell_type": "markdown",
   "id": "d7ed7bfb",
   "metadata": {},
   "source": [
    "Long Short Term Memory: RNN 모델이 갖던 기억력 부족과 Gradient Vanishing 문제를 해결"
   ]
  },
  {
   "cell_type": "markdown",
   "id": "b4a9fec4",
   "metadata": {},
   "source": [
    "RNN 모델은 장기 의존성 문제(Long Term Dependencies) 문제가 발생 가능. 활성화함수로 사용되는 tanh 함수나 ReLU 함수 특성으로 인해 역전파 과정에서 기울기 소실이나 폭주도 발생 가능함."
   ]
  },
  {
   "cell_type": "markdown",
   "id": "91d4ce32",
   "metadata": {},
   "source": [
    "LSTM 모델은 순환 싱경망과 비슷한 구조를 가지나, Memory cell과 Gate 구조의 도입으로 상기한 문제를 해결"
   ]
  },
  {
   "cell_type": "markdown",
   "id": "33ae380d",
   "metadata": {},
   "source": [
    "```\n",
    "lstm = torch.nn.LSTM(\n",
    "    input_size,\n",
    "    hidden_size,\n",
    "    num_layers=1,\n",
    "    bias=True,\n",
    "    batch_first=True,\n",
    "    dropout=0,\n",
    "    bidirectional=False,\n",
    "    proj_size=0\n",
    ")\n",
    "```"
   ]
  },
  {
   "cell_type": "code",
   "execution_count": 29,
   "id": "5f374068",
   "metadata": {},
   "outputs": [],
   "source": [
    "import torch\n",
    "from torch import nn"
   ]
  },
  {
   "cell_type": "code",
   "execution_count": 48,
   "id": "ebbf7718",
   "metadata": {},
   "outputs": [
    {
     "name": "stderr",
     "output_type": "stream",
     "text": [
      "C:\\Users\\dohyeong\\AppData\\Local\\Programs\\Python\\Python311\\Lib\\site-packages\\torch\\nn\\modules\\rnn.py:879: UserWarning: LSTM with projections is not supported with oneDNN. Using default implementation. (Triggered internally at ..\\aten\\src\\ATen\\native\\RNN.cpp:1493.)\n",
      "  result = _VF.lstm(input, hx, self._flat_weights, self.bias, self.num_layers,\n"
     ]
    }
   ],
   "source": [
    "input_size=128\n",
    "output_size=256\n",
    "num_layers = 3\n",
    "bidirectional=True\n",
    "proj_size=64\n",
    "\n",
    "model = nn.LSTM(\n",
    "    input_size=input_size,\n",
    "    hidden_size=output_size,\n",
    "    num_layers=num_layers,\n",
    "    batch_first=True,\n",
    "    bidirectional=bidirectional,\n",
    "    proj_size=proj_size\n",
    ")\n",
    "\n",
    "batch_size=4\n",
    "sequence_len=6\n",
    "\n",
    "inputs=torch.randn(batch_size, sequence_len, input_size)\n",
    "h0=torch.rand(\n",
    "    num_layers * (int(bidirectional)+1),\n",
    "    batch_size,\n",
    "    proj_size if proj_size > 0 else output_size,\n",
    ")\n",
    "c0 = torch.rand(num_layers * (int(bidirectional)+1), batch_size, output_size)\n",
    "\n",
    "outputs, (hn, cn) = model(inputs, (h0, c0))"
   ]
  },
  {
   "cell_type": "code",
   "execution_count": 49,
   "id": "6d5efa3a",
   "metadata": {},
   "outputs": [
    {
     "name": "stdout",
     "output_type": "stream",
     "text": [
      "torch.Size([4, 6, 128])\n"
     ]
    }
   ],
   "source": [
    "print(outputs.shape)"
   ]
  },
  {
   "cell_type": "code",
   "execution_count": 51,
   "id": "14f4b5b3",
   "metadata": {},
   "outputs": [
    {
     "name": "stdout",
     "output_type": "stream",
     "text": [
      "torch.Size([6, 4, 64])\n",
      "torch.Size([6, 4, 256])\n"
     ]
    }
   ],
   "source": [
    "print(hn.shape)\n",
    "print(cn.shape)"
   ]
  },
  {
   "cell_type": "markdown",
   "id": "2b4b2240",
   "metadata": {},
   "source": [
    "# P/N classification model by using RNN and LSTM"
   ]
  },
  {
   "cell_type": "code",
   "execution_count": 52,
   "id": "a46bda16",
   "metadata": {},
   "outputs": [],
   "source": [
    "class sentence_classifier(nn.Module):\n",
    "    def __init__(\n",
    "        self,\n",
    "        n_vocab,\n",
    "        hidden_dim,\n",
    "        embeedding_dim,\n",
    "        n_layers,\n",
    "        dropout=0.5,\n",
    "        bidirectional=True,\n",
    "        model_type='lstm'\n",
    "    ):\n",
    "        super().__init__()\n",
    "        self.embedding = nn.Embedding(\n",
    "            num_embeddings=n_vocab,\n",
    "            embedding_dim = embedding_dim,\n",
    "            padding_idx = 0\n",
    "        )\n",
    "        if model_type == 'rnn':\n",
    "            self.model = nn.RNN(\n",
    "                input_size = embedding_dim,\n",
    "                hidden_size = hidden_dim,\n",
    "                num_layers = n_layers,\n",
    "                bidirectional = bidirectional,\n",
    "                dropout = dropout,\n",
    "                batch_first = True\n",
    "            )\n",
    "        \n",
    "        elif model_type == 'lstm':\n",
    "            self.model = nn.LSTM(\n",
    "                input_size = embedding_dim,\n",
    "                hidden_size = hidden_dim,\n",
    "                num_layers = n_layers,\n",
    "                bidirectional = bidirectional,\n",
    "                dropout = dropout,\n",
    "                batch_first = True\n",
    "            )\n",
    "        \n",
    "        if bidirectional:\n",
    "            self.classifier = nn.Linear(hidden_dim*2, 1)\n",
    "        else:\n",
    "            self.classifier = nn.Linear(hidden_dim, 1)\n",
    "            \n",
    "        self.dropout = nn.Dropout(dropout)\n",
    "        \n",
    "    def forward(self, inputs):\n",
    "        embeddings = self.embedding(inputs)\n",
    "        output, _ = self.model(embeddings)\n",
    "        last_output = output[:, -1, :]\n",
    "        last_output = self.dropout(last_output)\n",
    "        logits = self.classifier(last_output)\n",
    "        return logits"
   ]
  },
  {
   "cell_type": "code",
   "execution_count": null,
   "id": "c826d46b",
   "metadata": {},
   "outputs": [],
   "source": []
  }
 ],
 "metadata": {
  "kernelspec": {
   "display_name": "3.11.4",
   "language": "python",
   "name": "3.11.4"
  },
  "language_info": {
   "codemirror_mode": {
    "name": "ipython",
    "version": 3
   },
   "file_extension": ".py",
   "mimetype": "text/x-python",
   "name": "python",
   "nbconvert_exporter": "python",
   "pygments_lexer": "ipython3",
   "version": "3.11.4"
  }
 },
 "nbformat": 4,
 "nbformat_minor": 5
}
